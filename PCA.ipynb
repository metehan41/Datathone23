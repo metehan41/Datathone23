{
 "cells": [
  {
   "cell_type": "code",
   "execution_count": 1,
   "id": "45c634be",
   "metadata": {},
   "outputs": [],
   "source": [
    "import numpy as np\n",
    "import pandas as pd\n",
    "import matplotlib.pyplot as plt\n",
    "import seaborn as sns"
   ]
  },
  {
   "cell_type": "code",
   "execution_count": 2,
   "id": "ea76e490",
   "metadata": {},
   "outputs": [],
   "source": [
    "%matplotlib inline "
   ]
  },
  {
   "cell_type": "code",
   "execution_count": 3,
   "id": "e33a8a9f",
   "metadata": {},
   "outputs": [],
   "source": [
    "dfTrain = pd.read_csv('train.csv')"
   ]
  },
  {
   "cell_type": "code",
   "execution_count": 4,
   "id": "4b65f56b",
   "metadata": {},
   "outputs": [],
   "source": [
    "dfTest = pd.read_csv('test_x.csv')"
   ]
  },
  {
   "cell_type": "code",
   "execution_count": 12,
   "id": "f81767e8",
   "metadata": {},
   "outputs": [],
   "source": [
    "df = dfTrain.drop([\"Öbek İsmi\", \"index\"], axis = 1)\n",
    "y = dfTrain[\"Öbek İsmi\"]"
   ]
  },
  {
   "cell_type": "code",
   "execution_count": 9,
   "id": "cf636ec8",
   "metadata": {},
   "outputs": [
    {
     "data": {
      "text/html": [
       "<div>\n",
       "<style scoped>\n",
       "    .dataframe tbody tr th:only-of-type {\n",
       "        vertical-align: middle;\n",
       "    }\n",
       "\n",
       "    .dataframe tbody tr th {\n",
       "        vertical-align: top;\n",
       "    }\n",
       "\n",
       "    .dataframe thead th {\n",
       "        text-align: right;\n",
       "    }\n",
       "</style>\n",
       "<table border=\"1\" class=\"dataframe\">\n",
       "  <thead>\n",
       "    <tr style=\"text-align: right;\">\n",
       "      <th></th>\n",
       "      <th>Cinsiyet</th>\n",
       "      <th>Yaş Grubu</th>\n",
       "      <th>Medeni Durum</th>\n",
       "      <th>Eğitim Düzeyi</th>\n",
       "      <th>İstihdam Durumu</th>\n",
       "      <th>Yıllık Ortalama Gelir</th>\n",
       "      <th>Yaşadığı Şehir</th>\n",
       "      <th>En Çok İlgilendiği Ürün Grubu</th>\n",
       "      <th>Yıllık Ortalama Satın Alım Miktarı</th>\n",
       "      <th>Yıllık Ortalama Sipariş Verilen Ürün Adedi</th>\n",
       "      <th>Eğitime Devam Etme Durumu</th>\n",
       "      <th>Yıllık Ortalama Sepete Atılan Ürün Adedi</th>\n",
       "    </tr>\n",
       "  </thead>\n",
       "  <tbody>\n",
       "    <tr>\n",
       "      <th>0</th>\n",
       "      <td>Kadın</td>\n",
       "      <td>31-40</td>\n",
       "      <td>Bekar</td>\n",
       "      <td>Yüksek Lisans Mezunu</td>\n",
       "      <td>Düzenli ve Ücretli Bir İşi Var</td>\n",
       "      <td>748266.440879</td>\n",
       "      <td>Büyük Şehir</td>\n",
       "      <td>Elektronik ve Teknolojik Ürünler</td>\n",
       "      <td>32010.900881</td>\n",
       "      <td>37.310644</td>\n",
       "      <td>Etmiyor</td>\n",
       "      <td>102.936904</td>\n",
       "    </tr>\n",
       "    <tr>\n",
       "      <th>1</th>\n",
       "      <td>Erkek</td>\n",
       "      <td>&gt;60</td>\n",
       "      <td>Evli</td>\n",
       "      <td>Lise Mezunu</td>\n",
       "      <td>Kendi İşinin Sahibi</td>\n",
       "      <td>246298.609605</td>\n",
       "      <td>Küçük Şehir</td>\n",
       "      <td>Spor Malzemeleri</td>\n",
       "      <td>4145.729891</td>\n",
       "      <td>11.554851</td>\n",
       "      <td>Etmiyor</td>\n",
       "      <td>82.176053</td>\n",
       "    </tr>\n",
       "    <tr>\n",
       "      <th>2</th>\n",
       "      <td>Erkek</td>\n",
       "      <td>18-30</td>\n",
       "      <td>Bekar</td>\n",
       "      <td>Lise Mezunu</td>\n",
       "      <td>Düzenli ve Ücretli Bir İşi Var</td>\n",
       "      <td>268582.732360</td>\n",
       "      <td>Küçük Şehir</td>\n",
       "      <td>Giyim</td>\n",
       "      <td>9924.379414</td>\n",
       "      <td>55.353236</td>\n",
       "      <td>Ediyor</td>\n",
       "      <td>141.661426</td>\n",
       "    </tr>\n",
       "    <tr>\n",
       "      <th>3</th>\n",
       "      <td>Erkek</td>\n",
       "      <td>51-60</td>\n",
       "      <td>Evli</td>\n",
       "      <td>Lise Mezunu</td>\n",
       "      <td>Kendi İşinin Sahibi</td>\n",
       "      <td>327721.837865</td>\n",
       "      <td>Kırsal</td>\n",
       "      <td>Giyim</td>\n",
       "      <td>6417.780714</td>\n",
       "      <td>15.417239</td>\n",
       "      <td>Etmiyor</td>\n",
       "      <td>17.097397</td>\n",
       "    </tr>\n",
       "    <tr>\n",
       "      <th>4</th>\n",
       "      <td>Erkek</td>\n",
       "      <td>31-40</td>\n",
       "      <td>Evli</td>\n",
       "      <td>Ortaokul Mezunu</td>\n",
       "      <td>İşsiz veya Düzenli Bir İşi Yok</td>\n",
       "      <td>397431.626948</td>\n",
       "      <td>Büyük Şehir</td>\n",
       "      <td>Giyim</td>\n",
       "      <td>7886.663061</td>\n",
       "      <td>14.689837</td>\n",
       "      <td>Etmiyor</td>\n",
       "      <td>20.470459</td>\n",
       "    </tr>\n",
       "  </tbody>\n",
       "</table>\n",
       "</div>"
      ],
      "text/plain": [
       "  Cinsiyet Yaş Grubu Medeni Durum         Eğitim Düzeyi  \\\n",
       "0    Kadın     31-40        Bekar  Yüksek Lisans Mezunu   \n",
       "1    Erkek       >60         Evli           Lise Mezunu   \n",
       "2    Erkek     18-30        Bekar           Lise Mezunu   \n",
       "3    Erkek     51-60         Evli           Lise Mezunu   \n",
       "4    Erkek     31-40         Evli       Ortaokul Mezunu   \n",
       "\n",
       "                  İstihdam Durumu  Yıllık Ortalama Gelir Yaşadığı Şehir  \\\n",
       "0  Düzenli ve Ücretli Bir İşi Var          748266.440879    Büyük Şehir   \n",
       "1             Kendi İşinin Sahibi          246298.609605    Küçük Şehir   \n",
       "2  Düzenli ve Ücretli Bir İşi Var          268582.732360    Küçük Şehir   \n",
       "3             Kendi İşinin Sahibi          327721.837865         Kırsal   \n",
       "4  İşsiz veya Düzenli Bir İşi Yok          397431.626948    Büyük Şehir   \n",
       "\n",
       "      En Çok İlgilendiği Ürün Grubu  Yıllık Ortalama Satın Alım Miktarı  \\\n",
       "0  Elektronik ve Teknolojik Ürünler                        32010.900881   \n",
       "1                  Spor Malzemeleri                         4145.729891   \n",
       "2                             Giyim                         9924.379414   \n",
       "3                             Giyim                         6417.780714   \n",
       "4                             Giyim                         7886.663061   \n",
       "\n",
       "   Yıllık Ortalama Sipariş Verilen Ürün Adedi Eğitime Devam Etme Durumu  \\\n",
       "0                                   37.310644                   Etmiyor   \n",
       "1                                   11.554851                   Etmiyor   \n",
       "2                                   55.353236                    Ediyor   \n",
       "3                                   15.417239                   Etmiyor   \n",
       "4                                   14.689837                   Etmiyor   \n",
       "\n",
       "   Yıllık Ortalama Sepete Atılan Ürün Adedi  \n",
       "0                                102.936904  \n",
       "1                                 82.176053  \n",
       "2                                141.661426  \n",
       "3                                 17.097397  \n",
       "4                                 20.470459  "
      ]
     },
     "execution_count": 9,
     "metadata": {},
     "output_type": "execute_result"
    }
   ],
   "source": [
    "df.head()"
   ]
  },
  {
   "cell_type": "code",
   "execution_count": 17,
   "id": "f8180115",
   "metadata": {},
   "outputs": [],
   "source": [
    "X = pd.get_dummies(df)"
   ]
  },
  {
   "cell_type": "code",
   "execution_count": 18,
   "id": "272623bf",
   "metadata": {},
   "outputs": [],
   "source": [
    "from sklearn.preprocessing import StandardScaler\n",
    "scaler = StandardScaler()\n",
    "scaled_X = scaler.fit_transform(X)"
   ]
  },
  {
   "cell_type": "code",
   "execution_count": 19,
   "id": "fe2c272e",
   "metadata": {},
   "outputs": [],
   "source": [
    "from sklearn.decomposition import PCA"
   ]
  },
  {
   "cell_type": "code",
   "execution_count": 20,
   "id": "79d3b160",
   "metadata": {},
   "outputs": [],
   "source": [
    "model = PCA(n_components=2)"
   ]
  },
  {
   "cell_type": "code",
   "execution_count": 25,
   "id": "87d048d5",
   "metadata": {},
   "outputs": [],
   "source": [
    "pca_X = model.fit_transform(scaled_X)"
   ]
  },
  {
   "cell_type": "code",
   "execution_count": 27,
   "id": "602b0b00",
   "metadata": {},
   "outputs": [
    {
     "data": {
      "text/plain": [
       "array([ 1.94753427, -2.14589093,  3.56797236, ..., -2.55739171,\n",
       "        4.5623095 ,  4.61731524])"
      ]
     },
     "execution_count": 27,
     "metadata": {},
     "output_type": "execute_result"
    }
   ],
   "source": [
    "pca_X[:,0]"
   ]
  },
  {
   "cell_type": "code",
   "execution_count": null,
   "id": "b51e8e5a",
   "metadata": {},
   "outputs": [],
   "source": []
  }
 ],
 "metadata": {
  "kernelspec": {
   "display_name": "Python 3 (ipykernel)",
   "language": "python",
   "name": "python3"
  },
  "language_info": {
   "codemirror_mode": {
    "name": "ipython",
    "version": 3
   },
   "file_extension": ".py",
   "mimetype": "text/x-python",
   "name": "python",
   "nbconvert_exporter": "python",
   "pygments_lexer": "ipython3",
   "version": "3.9.13"
  }
 },
 "nbformat": 4,
 "nbformat_minor": 5
}
